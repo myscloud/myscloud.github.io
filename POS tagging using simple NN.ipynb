{
 "cells": [
  {
   "cell_type": "code",
   "execution_count": 1,
   "metadata": {
    "collapsed": true
   },
   "outputs": [],
   "source": [
    "import numpy as np"
   ]
  },
  {
   "cell_type": "code",
   "execution_count": 2,
   "metadata": {
    "collapsed": false
   },
   "outputs": [],
   "source": [
    "x = np.array([1, 0, 0, 0, 0, 0, 0, 1, 0, 0, 0, 0, 0, 1, 0])\n",
    "w = np.array([[0.5,  0.5,  0.7,  0.5,  0.5,  0.5,  0.5,  2.5,  0.5,  0.5,  0.5,\n",
    "         0.5,  0.5,  0.5,  0.5],\n",
    "            [0.5,  0.5,  1.3,  0.5,  0.5,  0.5,  0.5,  0.5,  3.5,  0.5,  0.5,\n",
    "         0.5,  0.5,  0.5,  0.5],\n",
    "            [0.5,  0.5,  0.5,  0.5,  0.5,  0.5,  0.5,  0.5,  0.5,  3.0 ,  0.5,\n",
    "         0.5,  0.5,  0.5,  0.5]])\n",
    "b = np.array([0.5, 0.5, 0.5])"
   ]
  },
  {
   "cell_type": "code",
   "execution_count": 3,
   "metadata": {
    "collapsed": false
   },
   "outputs": [
    {
     "name": "stdout",
     "output_type": "stream",
     "text": [
      "[ 4.  2.  2.]\n"
     ]
    }
   ],
   "source": [
    "y = np.matmul(w,x) + b\n",
    "print(y)"
   ]
  },
  {
   "cell_type": "code",
   "execution_count": null,
   "metadata": {
    "collapsed": true
   },
   "outputs": [],
   "source": []
  }
 ],
 "metadata": {
  "kernelspec": {
   "display_name": "Python 3",
   "language": "python",
   "name": "python3"
  },
  "language_info": {
   "codemirror_mode": {
    "name": "ipython",
    "version": 3
   },
   "file_extension": ".py",
   "mimetype": "text/x-python",
   "name": "python",
   "nbconvert_exporter": "python",
   "pygments_lexer": "ipython3",
   "version": "3.6.0"
  }
 },
 "nbformat": 4,
 "nbformat_minor": 2
}
